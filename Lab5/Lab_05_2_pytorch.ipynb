{
  "nbformat": 4,
  "nbformat_minor": 0,
  "metadata": {
    "colab": {
      "name": "Lab_05_2_pytorch.ipynb",
      "provenance": [],
      "collapsed_sections": []
    },
    "kernelspec": {
      "name": "python3",
      "display_name": "Python 3"
    },
    "language_info": {
      "name": "python"
    }
  },
  "cells": [
    {
      "cell_type": "code",
      "metadata": {
        "id": "bZI2MT3QSHcn"
      },
      "source": [
        "# Try Linear regression on same prediction data using Tensorflow"
      ],
      "execution_count": 2,
      "outputs": []
    },
    {
      "cell_type": "code",
      "metadata": {
        "id": "mH4i__7qSTLo"
      },
      "source": [
        "import numpy as np\n",
        "import pandas as pd \n",
        "import matplotlib.pyplot as plt\n",
        "%matplotlib inline\n",
        "import tensorflow as tf"
      ],
      "execution_count": 1,
      "outputs": []
    },
    {
      "cell_type": "code",
      "metadata": {
        "colab": {
          "base_uri": "https://localhost:8080/"
        },
        "id": "4NtMlpPoSaCv",
        "outputId": "b6d47671-b7c0-47c1-d4a9-e44f644979c1"
      },
      "source": [
        "# Use seaborn for pairplot\n",
        "import seaborn as sns\n",
        "\n",
        "from tensorflow import keras\n",
        "from tensorflow.keras import layers\n",
        "from tensorflow.keras.layers.experimental import preprocessing\n",
        "\n",
        "print(tf.__version__)"
      ],
      "execution_count": 3,
      "outputs": [
        {
          "output_type": "stream",
          "name": "stdout",
          "text": [
            "2.6.0\n"
          ]
        }
      ]
    },
    {
      "cell_type": "code",
      "metadata": {
        "id": "MQFeCrHHSfhQ"
      },
      "source": [
        "# Input (temp, rainfall, humidity)\n",
        "inputs = np.array([[73, 67, 43], [91, 88, 64], [87, 134, 58], [102, 43, 37], [69, 96, 70], [73, 67, 43], [91, 88, 64], [87, 134, 58], [102, 43, 37], [69, 96, 70], [73, 67, 43], [91, 88, 64], [87, 134, 58], [102, 43, 37], [69, 96, 70]], dtype='float32')\n",
        "# Targets (apples)\n",
        "targets = np.array([[56], [81], [119], [22], [103], \n",
        "                    [56], [81], [119], [22], [103], \n",
        "                    [56], [81], [119], [22], [103]], dtype='float32')"
      ],
      "execution_count": 4,
      "outputs": []
    },
    {
      "cell_type": "code",
      "metadata": {
        "id": "QGsYuetiSgxX"
      },
      "source": [
        "df_inputs = pd.DataFrame(inputs, columns = ['temp','rainfall','humidity'])\n",
        "features = df_inputs.copy()\n",
        "train_features = features[:10]\n",
        "test_features = features[10:] \n",
        "\n",
        "df_targets = pd.DataFrame(targets, columns = ['apples'])\n",
        "label = df_targets.copy()\n",
        "train_label =  label[:10]\n",
        "test_label = label[10:]"
      ],
      "execution_count": 5,
      "outputs": []
    },
    {
      "cell_type": "code",
      "metadata": {
        "colab": {
          "base_uri": "https://localhost:8080/"
        },
        "id": "JqvXWoVySjjL",
        "outputId": "8d0fe051-4d75-4782-fe1c-945dc53a14fb"
      },
      "source": [
        "#print(train_data)\n",
        "print(train_features)\n",
        "print(train_label)"
      ],
      "execution_count": 6,
      "outputs": [
        {
          "output_type": "stream",
          "name": "stdout",
          "text": [
            "    temp  rainfall  humidity\n",
            "0   73.0      67.0      43.0\n",
            "1   91.0      88.0      64.0\n",
            "2   87.0     134.0      58.0\n",
            "3  102.0      43.0      37.0\n",
            "4   69.0      96.0      70.0\n",
            "5   73.0      67.0      43.0\n",
            "6   91.0      88.0      64.0\n",
            "7   87.0     134.0      58.0\n",
            "8  102.0      43.0      37.0\n",
            "9   69.0      96.0      70.0\n",
            "   apples\n",
            "0    56.0\n",
            "1    81.0\n",
            "2   119.0\n",
            "3    22.0\n",
            "4   103.0\n",
            "5    56.0\n",
            "6    81.0\n",
            "7   119.0\n",
            "8    22.0\n",
            "9   103.0\n"
          ]
        }
      ]
    },
    {
      "cell_type": "code",
      "metadata": {
        "colab": {
          "base_uri": "https://localhost:8080/",
          "height": 142
        },
        "id": "MVcIFcsBSovN",
        "outputId": "116aa62a-1061-4f0f-d829-e2487bd7a6af"
      },
      "source": [
        "train_features.describe().transpose()[['mean', 'std']]"
      ],
      "execution_count": 7,
      "outputs": [
        {
          "output_type": "execute_result",
          "data": {
            "text/html": [
              "<div>\n",
              "<style scoped>\n",
              "    .dataframe tbody tr th:only-of-type {\n",
              "        vertical-align: middle;\n",
              "    }\n",
              "\n",
              "    .dataframe tbody tr th {\n",
              "        vertical-align: top;\n",
              "    }\n",
              "\n",
              "    .dataframe thead th {\n",
              "        text-align: right;\n",
              "    }\n",
              "</style>\n",
              "<table border=\"1\" class=\"dataframe\">\n",
              "  <thead>\n",
              "    <tr style=\"text-align: right;\">\n",
              "      <th></th>\n",
              "      <th>mean</th>\n",
              "      <th>std</th>\n",
              "    </tr>\n",
              "  </thead>\n",
              "  <tbody>\n",
              "    <tr>\n",
              "      <th>temp</th>\n",
              "      <td>84.400002</td>\n",
              "      <td>12.712199</td>\n",
              "    </tr>\n",
              "    <tr>\n",
              "      <th>rainfall</th>\n",
              "      <td>85.599998</td>\n",
              "      <td>32.031929</td>\n",
              "    </tr>\n",
              "    <tr>\n",
              "      <th>humidity</th>\n",
              "      <td>54.400002</td>\n",
              "      <td>13.175735</td>\n",
              "    </tr>\n",
              "  </tbody>\n",
              "</table>\n",
              "</div>"
            ],
            "text/plain": [
              "               mean        std\n",
              "temp      84.400002  12.712199\n",
              "rainfall  85.599998  32.031929\n",
              "humidity  54.400002  13.175735"
            ]
          },
          "metadata": {},
          "execution_count": 7
        }
      ]
    },
    {
      "cell_type": "code",
      "metadata": {
        "colab": {
          "base_uri": "https://localhost:8080/",
          "height": 567
        },
        "id": "OrpWmnfaSqoE",
        "outputId": "835f3776-2b61-434a-a0e5-d6ed698847c3"
      },
      "source": [
        "sns.pairplot(train_features[['temp', 'rainfall', 'humidity']], diag_kind='kde')"
      ],
      "execution_count": 8,
      "outputs": [
        {
          "output_type": "execute_result",
          "data": {
            "text/plain": [
              "<seaborn.axisgrid.PairGrid at 0x7f7aef2ecf90>"
            ]
          },
          "metadata": {},
          "execution_count": 8
        },
        {
          "output_type": "display_data",
          "data": {
            "image/png": "[encoded data removed]",
            "text/plain": [
              "<Figure size 540x540 with 12 Axes>"
            ]
          },
          "metadata": {
            "needs_background": "light"
          }
        }
      ]
    },
    {
      "cell_type": "code",
      "metadata": {
        "id": "-ZOOvQirSyCc"
      },
      "source": [
        "# with one variable input \"Temp\""
      ],
      "execution_count": 9,
      "outputs": []
    },
    {
      "cell_type": "code",
      "metadata": {
        "id": "zj3RTKxzS1Qj"
      },
      "source": [
        "from sklearn.preprocessing import Normalizer\n",
        "import sklearn.preprocessing"
      ],
      "execution_count": 10,
      "outputs": []
    },
    {
      "cell_type": "code",
      "metadata": {
        "id": "yfJr4IVqS3kC"
      },
      "source": [
        "temp = np.array(train_features['temp'])\n",
        "\n",
        "temp_normalizer = preprocessing.Normalization(input_shape=[1, ], axis = None)\n",
        "temp_normalizer.adapt(temp)"
      ],
      "execution_count": 11,
      "outputs": []
    },
    {
      "cell_type": "code",
      "metadata": {
        "id": "sb0Eg19AS6jQ"
      },
      "source": [
        "temp_linear_model = tf.keras.Sequential([\n",
        "    temp_normalizer,\n",
        "    layers.Dense(units=1)           \n",
        "])"
      ],
      "execution_count": 12,
      "outputs": []
    },
    {
      "cell_type": "code",
      "metadata": {
        "colab": {
          "base_uri": "https://localhost:8080/"
        },
        "id": "61raS3LqS_8W",
        "outputId": "57cef24c-fab4-4007-e957-1a7e56e26aff"
      },
      "source": [
        "temp_linear_model.summary()"
      ],
      "execution_count": 13,
      "outputs": [
        {
          "output_type": "stream",
          "name": "stdout",
          "text": [
            "Model: \"sequential\"\n",
            "_________________________________________________________________\n",
            "Layer (type)                 Output Shape              Param #   \n",
            "=================================================================\n",
            "normalization (Normalization (None, 1)                 3         \n",
            "_________________________________________________________________\n",
            "dense (Dense)                (None, 1)                 2         \n",
            "=================================================================\n",
            "Total params: 5\n",
            "Trainable params: 2\n",
            "Non-trainable params: 3\n",
            "_________________________________________________________________\n"
          ]
        }
      ]
    },
    {
      "cell_type": "code",
      "metadata": {
        "colab": {
          "base_uri": "https://localhost:8080/"
        },
        "id": "2EHYFgPATBl4",
        "outputId": "5c5a7656-09ca-47bc-b9be-0f61f6eac7ef"
      },
      "source": [
        "temp_linear_model.predict(temp[1:6])"
      ],
      "execution_count": 14,
      "outputs": [
        {
          "output_type": "execute_result",
          "data": {
            "text/plain": [
              "array([[ 0.56522846],\n",
              "       [ 0.22266567],\n",
              "       [ 1.507276  ],\n",
              "       [-1.3188668 ],\n",
              "       [-0.97630405]], dtype=float32)"
            ]
          },
          "metadata": {},
          "execution_count": 14
        }
      ]
    },
    {
      "cell_type": "code",
      "metadata": {
        "id": "fKepTAWgTGBM"
      },
      "source": [
        "temp_linear_model.compile(\n",
        "    optimizer = tf.optimizers.Adam(learning_rate = 0.1),\n",
        "    loss='mean_absolute_error')"
      ],
      "execution_count": 15,
      "outputs": []
    },
    {
      "cell_type": "code",
      "metadata": {
        "colab": {
          "base_uri": "https://localhost:8080/"
        },
        "id": "pxTCg59mTIJn",
        "outputId": "e31bb0e0-e49e-4c4b-b1dc-156b3158be0e"
      },
      "source": [
        "%%time\n",
        "history = temp_linear_model.fit(\n",
        "    train_features['temp'], train_label,\n",
        "    epochs = 1000,\n",
        "    # suppress logging\n",
        "    verbose = 0,\n",
        "    # Calculate validation results on 10% of the training data\n",
        "    validation_split = 0.3)"
      ],
      "execution_count": 16,
      "outputs": [
        {
          "output_type": "stream",
          "name": "stdout",
          "text": [
            "CPU times: user 15.9 s, sys: 758 ms, total: 16.7 s\n",
            "Wall time: 15.8 s\n"
          ]
        }
      ]
    },
    {
      "cell_type": "code",
      "metadata": {
        "colab": {
          "base_uri": "https://localhost:8080/",
          "height": 359
        },
        "id": "B64ntLCYTP4y",
        "outputId": "7e6ad345-b9b6-472f-d7a3-955a99e1980a"
      },
      "source": [
        "hist = pd.DataFrame(history.history)\n",
        "hist['epoch'] = history.epoch\n",
        "hist.tail(10)"
      ],
      "execution_count": 17,
      "outputs": [
        {
          "output_type": "execute_result",
          "data": {
            "text/html": [
              "<div>\n",
              "<style scoped>\n",
              "    .dataframe tbody tr th:only-of-type {\n",
              "        vertical-align: middle;\n",
              "    }\n",
              "\n",
              "    .dataframe tbody tr th {\n",
              "        vertical-align: top;\n",
              "    }\n",
              "\n",
              "    .dataframe thead th {\n",
              "        text-align: right;\n",
              "    }\n",
              "</style>\n",
              "<table border=\"1\" class=\"dataframe\">\n",
              "  <thead>\n",
              "    <tr style=\"text-align: right;\">\n",
              "      <th></th>\n",
              "      <th>loss</th>\n",
              "      <th>val_loss</th>\n",
              "      <th>epoch</th>\n",
              "    </tr>\n",
              "  </thead>\n",
              "  <tbody>\n",
              "    <tr>\n",
              "      <th>990</th>\n",
              "      <td>27.708002</td>\n",
              "      <td>47.961269</td>\n",
              "      <td>990</td>\n",
              "    </tr>\n",
              "    <tr>\n",
              "      <th>991</th>\n",
              "      <td>27.701704</td>\n",
              "      <td>47.983418</td>\n",
              "      <td>991</td>\n",
              "    </tr>\n",
              "    <tr>\n",
              "      <th>992</th>\n",
              "      <td>27.695374</td>\n",
              "      <td>48.006252</td>\n",
              "      <td>992</td>\n",
              "    </tr>\n",
              "    <tr>\n",
              "      <th>993</th>\n",
              "      <td>27.689022</td>\n",
              "      <td>48.029697</td>\n",
              "      <td>993</td>\n",
              "    </tr>\n",
              "    <tr>\n",
              "      <th>994</th>\n",
              "      <td>27.682652</td>\n",
              "      <td>48.053696</td>\n",
              "      <td>994</td>\n",
              "    </tr>\n",
              "    <tr>\n",
              "      <th>995</th>\n",
              "      <td>27.676260</td>\n",
              "      <td>48.078197</td>\n",
              "      <td>995</td>\n",
              "    </tr>\n",
              "    <tr>\n",
              "      <th>996</th>\n",
              "      <td>27.669847</td>\n",
              "      <td>48.103149</td>\n",
              "      <td>996</td>\n",
              "    </tr>\n",
              "    <tr>\n",
              "      <th>997</th>\n",
              "      <td>27.663424</td>\n",
              "      <td>48.128521</td>\n",
              "      <td>997</td>\n",
              "    </tr>\n",
              "    <tr>\n",
              "      <th>998</th>\n",
              "      <td>27.656979</td>\n",
              "      <td>48.154247</td>\n",
              "      <td>998</td>\n",
              "    </tr>\n",
              "    <tr>\n",
              "      <th>999</th>\n",
              "      <td>27.650524</td>\n",
              "      <td>48.180317</td>\n",
              "      <td>999</td>\n",
              "    </tr>\n",
              "  </tbody>\n",
              "</table>\n",
              "</div>"
            ],
            "text/plain": [
              "          loss   val_loss  epoch\n",
              "990  27.708002  47.961269    990\n",
              "991  27.701704  47.983418    991\n",
              "992  27.695374  48.006252    992\n",
              "993  27.689022  48.029697    993\n",
              "994  27.682652  48.053696    994\n",
              "995  27.676260  48.078197    995\n",
              "996  27.669847  48.103149    996\n",
              "997  27.663424  48.128521    997\n",
              "998  27.656979  48.154247    998\n",
              "999  27.650524  48.180317    999"
            ]
          },
          "metadata": {},
          "execution_count": 17
        }
      ]
    },
    {
      "cell_type": "code",
      "metadata": {
        "id": "F6KGb7-uTTth"
      },
      "source": [
        "test_results = {}\n",
        "\n",
        "test_results['temp_linear_model'] = temp_linear_model.evaluate(\n",
        "    test_features['temp'],\n",
        "    test_label, verbose=0)"
      ],
      "execution_count": 18,
      "outputs": []
    },
    {
      "cell_type": "code",
      "metadata": {
        "colab": {
          "base_uri": "https://localhost:8080/"
        },
        "id": "E-e1F6fFTWVj",
        "outputId": "5ee2fb19-c316-431b-fc84-a73dfca3cd53"
      },
      "source": [
        "test_results['temp_linear_model']"
      ],
      "execution_count": 19,
      "outputs": [
        {
          "output_type": "execute_result",
          "data": {
            "text/plain": [
              "33.804927825927734"
            ]
          },
          "metadata": {},
          "execution_count": 19
        }
      ]
    },
    {
      "cell_type": "code",
      "metadata": {
        "id": "6OhBjLoTTaxN"
      },
      "source": [
        "y = temp_linear_model.predict(test_features['temp'])"
      ],
      "execution_count": 20,
      "outputs": []
    },
    {
      "cell_type": "code",
      "metadata": {
        "colab": {
          "base_uri": "https://localhost:8080/"
        },
        "id": "y6fY9zx0TeEZ",
        "outputId": "ccfb0755-2a77-4f87-8096-6a58d67afe44"
      },
      "source": [
        "y"
      ],
      "execution_count": 21,
      "outputs": [
        {
          "output_type": "execute_result",
          "data": {
            "text/plain": [
              "array([[56.004025],\n",
              "       [56.52032 ],\n",
              "       [56.40559 ],\n",
              "       [56.835835],\n",
              "       [55.889294]], dtype=float32)"
            ]
          },
          "metadata": {},
          "execution_count": 21
        }
      ]
    },
    {
      "cell_type": "code",
      "metadata": {
        "colab": {
          "base_uri": "https://localhost:8080/"
        },
        "id": "Uu3EgbLZTgGv",
        "outputId": "81ecf92e-6259-49e8-d5f2-4de0494ea142"
      },
      "source": [
        "norm_test_features = np.linalg.norm(test_features['temp'])\n",
        "norm_train_features = np.linalg.norm(train_features['temp'])\n",
        "# norm_test_label = np.linalg.norm(test_label['temp'])\n",
        "norm_train_label = np.linalg.norm(train_label['apples'])\n",
        "\n",
        "\n",
        "normal_array_test_features = test_features['temp']/norm_test_features\n",
        "normal_array_train_features = train_features['temp']/norm_train_features\n",
        "normal_array_train_label = train_label['apples']/norm_train_label\n",
        "\n",
        "print(normal_array_train_features)\n",
        "print(normal_array_test_features)\n",
        "print(normal_array_train_label)\n"
      ],
      "execution_count": 22,
      "outputs": [
        {
          "output_type": "stream",
          "name": "stdout",
          "text": [
            "0    0.270764\n",
            "1    0.337528\n",
            "2    0.322692\n",
            "3    0.378328\n",
            "4    0.255928\n",
            "5    0.270764\n",
            "6    0.337528\n",
            "7    0.322692\n",
            "8    0.378328\n",
            "9    0.255928\n",
            "Name: temp, dtype: float32\n",
            "10    0.382919\n",
            "11    0.477337\n",
            "12    0.456355\n",
            "13    0.535037\n",
            "14    0.361937\n",
            "Name: temp, dtype: float32\n",
            "0    0.211808\n",
            "1    0.306366\n",
            "2    0.450093\n",
            "3    0.083210\n",
            "4    0.389576\n",
            "5    0.211808\n",
            "6    0.306366\n",
            "7    0.450093\n",
            "8    0.083210\n",
            "9    0.389576\n",
            "Name: apples, dtype: float32\n"
          ]
        }
      ]
    },
    {
      "cell_type": "code",
      "metadata": {
        "colab": {
          "base_uri": "https://localhost:8080/",
          "height": 279
        },
        "id": "LD-fTaBOTl8W",
        "outputId": "5c1bb219-e510-4288-a665-1ea74a1d9bd0"
      },
      "source": [
        "# def plot_Apples(x, y):\n",
        "#   plt.scatter(normal_array_train_features, normal_array_train_label, label = 'Data')\n",
        "#   plt.plot(x, y, color='g', label = 'Predictions')\n",
        "#   plt.xlabel('Temp')\n",
        "#   plt.ylabel('Apples')\n",
        "#   plt.legend()\n",
        "\n",
        "def plot_Apples(x, y):\n",
        "  plt.scatter(train_features['temp'], train_label['apples'], label = 'Data')\n",
        "  plt.plot(x, y, color='g', label = 'Predictions')\n",
        "  plt.xlabel('Temp')\n",
        "  plt.ylabel('Apples')\n",
        "  plt.legend()\n",
        "  \n",
        "plot_Apples(test_features['temp'], y)"
      ],
      "execution_count": 23,
      "outputs": [
        {
          "output_type": "display_data",
          "data": {
            "image/png": "[encoded data removed]",
            "text/plain": [
              "<Figure size 432x288 with 1 Axes>"
            ]
          },
          "metadata": {
            "needs_background": "light"
          }
        }
      ]
    },
    {
      "cell_type": "markdown",
      "metadata": {
        "id": "SF4hMsdNTswj"
      },
      "source": [
        "NOW FOR MANY INPUTS"
      ]
    },
    {
      "cell_type": "code",
      "metadata": {
        "id": "aBpDG6sITvKH"
      },
      "source": [
        "normalizer = preprocessing.Normalization(axis = -1)"
      ],
      "execution_count": 24,
      "outputs": []
    },
    {
      "cell_type": "code",
      "metadata": {
        "id": "GLyAWTQ6Tyo1"
      },
      "source": [
        "normalizer.adapt(np.array(train_features))"
      ],
      "execution_count": 25,
      "outputs": []
    },
    {
      "cell_type": "code",
      "metadata": {
        "id": "fXMM4_2-T2J9"
      },
      "source": [
        "linear_model = tf.keras.Sequential([\n",
        "    normalizer,\n",
        "    layers.Dense(units = 1)\n",
        "])"
      ],
      "execution_count": 26,
      "outputs": []
    },
    {
      "cell_type": "code",
      "metadata": {
        "colab": {
          "base_uri": "https://localhost:8080/"
        },
        "id": "2DHyzVnmT3eZ",
        "outputId": "55d698ac-afde-4260-b96c-5fcc60afc7ba"
      },
      "source": [
        "linear_model.predict(train_features[:9])"
      ],
      "execution_count": 27,
      "outputs": [
        {
          "output_type": "execute_result",
          "data": {
            "text/plain": [
              "array([[ 1.21885   ],\n",
              "       [-0.38611817],\n",
              "       [-1.5284704 ],\n",
              "       [-0.72623783],\n",
              "       [ 1.4219766 ],\n",
              "       [ 1.21885   ],\n",
              "       [-0.38611817],\n",
              "       [-1.5284704 ],\n",
              "       [-0.72623783]], dtype=float32)"
            ]
          },
          "metadata": {},
          "execution_count": 27
        }
      ]
    },
    {
      "cell_type": "code",
      "metadata": {
        "id": "d-aHndhZT7II"
      },
      "source": [
        "linear_model.compile(\n",
        "    optimizer=tf.optimizers.Adam(learning_rate = 0.1),\n",
        "    loss='mean_absolute_error')\n"
      ],
      "execution_count": 28,
      "outputs": []
    },
    {
      "cell_type": "code",
      "metadata": {
        "colab": {
          "base_uri": "https://localhost:8080/"
        },
        "id": "FXfwzsTkT_Vw",
        "outputId": "eae23255-f2c1-4772-9123-2edbffcd4697"
      },
      "source": [
        "%%time\n",
        "history = linear_model.fit(\n",
        "    train_features, train_label, \n",
        "    epochs = 1000,\n",
        "    # suppress logging\n",
        "    verbose=0,\n",
        "    # Calculate validation results on 20% of the training data\n",
        "    validation_split = 0.2)"
      ],
      "execution_count": 29,
      "outputs": [
        {
          "output_type": "stream",
          "name": "stdout",
          "text": [
            "CPU times: user 15.6 s, sys: 736 ms, total: 16.3 s\n",
            "Wall time: 20.8 s\n"
          ]
        }
      ]
    },
    {
      "cell_type": "code",
      "metadata": {
        "colab": {
          "base_uri": "https://localhost:8080/"
        },
        "id": "8w9PnsjQUHO3",
        "outputId": "906f91e7-f64a-477f-d658-2370d1334703"
      },
      "source": [
        "test_results['linear_model'] = linear_model.evaluate(\n",
        "    test_features, test_label, verbose = 0)\n",
        "\n",
        "test_results['linear_model']"
      ],
      "execution_count": 30,
      "outputs": [
        {
          "output_type": "execute_result",
          "data": {
            "text/plain": [
              "0.8585899472236633"
            ]
          },
          "metadata": {},
          "execution_count": 30
        }
      ]
    }
  ]
}